{
 "cells": [
  {
   "cell_type": "code",
   "execution_count": 3,
   "metadata": {},
   "outputs": [
    {
     "data": {
      "text/plain": [
       "<7920x7920 sparse matrix of type '<class 'numpy.float64'>'\n",
       "\twith 23760 stored elements in Compressed Sparse Column format>"
      ]
     },
     "execution_count": 3,
     "metadata": {},
     "output_type": "execute_result"
    }
   ],
   "source": [
    "import scipy.io as io\n",
    "\n",
    "graph_name = 'commanche_weighted'\n",
    "mat_data = io.loadmat(graph_name + '.mat')\n",
    "\n",
    "graph = mat_data['graph']\n",
    "# graph = mat_data['Problem']['A'][0][0]\n",
    "graph"
   ]
  },
  {
   "cell_type": "code",
   "execution_count": 5,
   "metadata": {},
   "outputs": [],
   "source": [
    "import numpy as np\n",
    "import scipy.sparse.csgraph as cs\n",
    "import scipy.sparse as sparse\n",
    "\n",
    "# choose landmark points by the MaxMin strategy from\n",
    "# \"Sparse multidimensional scaling using landmark points, Vin de Silva & Joshua B. Tenenbaum, 2004\"\n",
    "n = graph.shape[0]\n",
    "numPivots = 200\n",
    "\n",
    "p0 = np.random.randint(0,n)  # use one pivot\n",
    "pivots = [p0]\n",
    "sh_paths = {p0: cs.dijkstra(graph, indices=p0)}\n",
    "\n",
    "# mins contains the min dist and which pivot it's from\n",
    "mins = []\n",
    "for i in range(n):\n",
    "    mins.append([sh_paths[p0][i], p0])\n",
    "\n",
    "for i in range(1,numPivots):\n",
    "    \n",
    "    # # normal max/min sp:\n",
    "    # argmax = 0\n",
    "    # for k in range(1,n):\n",
    "    #     if mins[k][0] > mins[argmax][0]:\n",
    "    #         argmax = k\n",
    "    # pivots.append(argmax)\n",
    "\n",
    "    # max/min random sp\n",
    "    totalProb = 0\n",
    "    cumulProb = []  # use cumulative prob distribution to sample\n",
    "    for k in range(n):\n",
    "        totalProb += mins[k][0]\n",
    "        cumulProb.append(totalProb)\n",
    "    sample = np.random.uniform(0, totalProb)\n",
    "    for k in range(n):\n",
    "        if sample < cumulProb[k]:\n",
    "            pivots.append(k)\n",
    "            break\n",
    "            \n",
    "    sh_paths[pivots[i]] = cs.dijkstra(graph, indices=pivots[i])\n",
    "    for j in range(n):\n",
    "        temp = sh_paths[pivots[i]][j]\n",
    "        if temp < mins[j][0]:\n",
    "            mins[j][0] = temp\n",
    "            mins[j][1] = pivots[i]\n"
   ]
  },
  {
   "cell_type": "code",
   "execution_count": 6,
   "metadata": {},
   "outputs": [],
   "source": [
    "# find the regions for each pivot\n",
    "regions = {}\n",
    "for p in pivots:\n",
    "    regions[p] = []\n",
    "    \n",
    "for i in range(n):\n",
    "    closestPivot = mins[i][1]\n",
    "    regions[closestPivot].append(i)"
   ]
  },
  {
   "cell_type": "code",
   "execution_count": 7,
   "metadata": {
    "scrolled": true
   },
   "outputs": [
    {
     "name": "stdout",
     "output_type": "stream",
     "text": [
      "........................................................................................................................................................................................................"
     ]
    }
   ],
   "source": [
    "# adjust the weights\n",
    "weights = {}\n",
    "constraints = []\n",
    "\n",
    "for p in pivots:\n",
    "    for i in range(n):\n",
    "        if graph[p,i] == 0 and p != i:\n",
    "            # THIS IS VERY SLOW, BUT WORKS AS AN EXAMPLE\n",
    "            s = sum(1 for j in regions[p] if sh_paths[p][j] <= sh_paths[p][i]/2)\n",
    "            w = 1/sh_paths[p][i]**2\n",
    "            weights[(p,i)] = w\n",
    "            weights[(i,p)] = s * w\n",
    "            constraints.append((p,i,sh_paths[p][i])) \n",
    "             \n",
    "    print('.', end='')\n",
    "\n",
    "I,J,V = sparse.find(graph)\n",
    "for e in range(len(I)):\n",
    "    i,j,v = I[e],J[e],V[e]\n",
    "    if i > j:\n",
    "        weights[(i,j)] = weights[(j,i)] = 1/v**2\n",
    "        constraints.append((i,j,graph[i,j]))"
   ]
  },
  {
   "cell_type": "code",
   "execution_count": 8,
   "metadata": {},
   "outputs": [
    {
     "name": "stdout",
     "output_type": "stream",
     "text": [
      "69.4821409359889 6.10448224033581e-06 -1.325010150764982\n"
     ]
    }
   ],
   "source": [
    "# determine annealing schedule\n",
    "w_max = 0\n",
    "w_min = float('inf')\n",
    "for w in weights.values():\n",
    "    w_min = min(w, w_min)\n",
    "    w_max = max(w, w_max)\n",
    "\n",
    "eta_max = 1 / w_min\n",
    "eta_min = 0.1 / w_max\n",
    "num_iter = 15\n",
    "lambd = np.log(eta_min/eta_max) / (num_iter-1)\n",
    "\n",
    "eta = lambda k: eta_max * np.exp(lambd*k)\n",
    "\n",
    "print(\"{} {} {}\".format(w_max, w_min, lambd))"
   ]
  },
  {
   "cell_type": "code",
   "execution_count": 9,
   "metadata": {
    "scrolled": true
   },
   "outputs": [
    {
     "name": "stdout",
     "output_type": "stream",
     "text": [
      "..............."
     ]
    }
   ],
   "source": [
    "import random\n",
    "X = np.random.rand(n, 2)   \n",
    "\n",
    "for k in range(num_iter):\n",
    "    random.shuffle(constraints)\n",
    "    c = eta(k)\n",
    "    \n",
    "    for i,j,d in constraints:\n",
    "        w_i = min(weights[(i,j)]*c, 1)\n",
    "        w_j = min(weights[(j,i)]*c, 1)\n",
    "        ij = X[i] - X[j]\n",
    "        mag = np.linalg.norm(ij)\n",
    "        m = ((d-mag)/2) * (ij/mag)\n",
    "        \n",
    "        X[i] += w_i * m\n",
    "        X[j] -= w_j * m\n",
    "        \n",
    "    print('.', end='')"
   ]
  },
  {
   "cell_type": "code",
   "execution_count": 11,
   "metadata": {
    "scrolled": true
   },
   "outputs": [
    {
     "name": "stderr",
     "output_type": "stream",
     "text": [
      "C:\\ProgramData\\Anaconda3\\lib\\site-packages\\matplotlib\\cbook\\deprecation.py:106: MatplotlibDeprecationWarning: Adding an axes using the same arguments as a previous axes currently reuses the earlier instance.  In a future version, a new instance will always be created and returned.  Meanwhile, this warning can be suppressed, and the future behavior ensured, by passing a unique label to each axes instance.\n",
      "  warnings.warn(message, mplDeprecation, stacklevel=1)\n"
     ]
    },
    {
     "data": {
      "image/png": "[encoded data removed]",
      "text/plain": [
       "<matplotlib.figure.Figure at 0x20f24e80>"
      ]
     },
     "metadata": {},
     "output_type": "display_data"
    }
   ],
   "source": [
    "import matplotlib.pyplot as plt\n",
    "%matplotlib inline\n",
    "from matplotlib import collections as mc\n",
    "\n",
    "plt.axis('equal')\n",
    "ax = plt.axes()\n",
    "ax.set_xlim(min(X[:,0])-1, max(X[:,0])+1)\n",
    "ax.set_ylim(min(X[:,1])-1, max(X[:,1])+1)\n",
    "\n",
    "lines = []\n",
    "for i,j in zip(*graph.nonzero()):\n",
    "    lines.append([X[i], X[j]])\n",
    "\n",
    "lc = mc.LineCollection(lines, linewidths=0.3, colors='k', alpha=.5)\n",
    "ax.add_collection(lc)\n",
    "\n",
    "plt.savefig(graph_name + '.svg', format='svg', dpi=1000)"
   ]
  }
 ],
 "metadata": {
  "kernelspec": {
   "display_name": "Python 3",
   "language": "python",
   "name": "python3"
  },
  "language_info": {
   "codemirror_mode": {
    "name": "ipython",
    "version": 3
   },
   "file_extension": ".py",
   "mimetype": "text/x-python",
   "name": "python",
   "nbconvert_exporter": "python",
   "pygments_lexer": "ipython3",
   "version": "3.6.4"
  }
 },
 "nbformat": 4,
 "nbformat_minor": 2
}
